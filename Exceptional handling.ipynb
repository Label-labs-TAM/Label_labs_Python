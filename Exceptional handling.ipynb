{
 "cells": [
  {
   "cell_type": "code",
   "execution_count": 12,
   "id": "59138891",
   "metadata": {},
   "outputs": [
    {
     "name": "stdout",
     "output_type": "stream",
     "text": [
      "Enter a num:0\n",
      "Zero division error occured !\n"
     ]
    }
   ],
   "source": [
    "try:\n",
    "    num=int(input('Enter a num:'))\n",
    "    result=10/num\n",
    "    print(result)\n",
    "except ZeroDivisionError:\n",
    "    print('Zero division error occured !')\n",
    "except ValueError:\n",
    "    print('value error occured!')\n",
    "else:\n",
    "    print('No exceptions in this program!')"
   ]
  },
  {
   "cell_type": "code",
   "execution_count": 5,
   "id": "012c7027",
   "metadata": {},
   "outputs": [
    {
     "name": "stdout",
     "output_type": "stream",
     "text": [
      "Enter a num:0\n",
      "Zero division error occured !\n",
      "This is always executed !\n"
     ]
    }
   ],
   "source": [
    "try:\n",
    "    num=int(input('Enter a num:'))\n",
    "    result=10/num\n",
    "    print(result)\n",
    "except ZeroDivisionError:\n",
    "    print('Zero division error occured !')\n",
    "except ValueError:\n",
    "    print('value error occured!')\n",
    "finally:\n",
    "    print('This is always executed !')"
   ]
  },
  {
   "cell_type": "code",
   "execution_count": 10,
   "id": "2a810f33",
   "metadata": {},
   "outputs": [
    {
     "name": "stdout",
     "output_type": "stream",
     "text": [
      "Enter key:123\n",
      "Key doesnt exist!\n"
     ]
    }
   ],
   "source": [
    "dict1={'name':'Python','age':10,'city':'new york'}\n",
    "key=input('Enter key:')\n",
    "try :\n",
    "    value=dict1[key]\n",
    "    print('Value for this key is:',value)\n",
    "except KeyError:\n",
    "    print('Key doesnt exist!')\n",
    "except TypeError:\n",
    "    print('Wrong data type!')"
   ]
  },
  {
   "cell_type": "code",
   "execution_count": null,
   "id": "467b891b",
   "metadata": {},
   "outputs": [],
   "source": []
  }
 ],
 "metadata": {
  "kernelspec": {
   "display_name": "Python 3 (ipykernel)",
   "language": "python",
   "name": "python3"
  },
  "language_info": {
   "codemirror_mode": {
    "name": "ipython",
    "version": 3
   },
   "file_extension": ".py",
   "mimetype": "text/x-python",
   "name": "python",
   "nbconvert_exporter": "python",
   "pygments_lexer": "ipython3",
   "version": "3.9.13"
  }
 },
 "nbformat": 4,
 "nbformat_minor": 5
}
